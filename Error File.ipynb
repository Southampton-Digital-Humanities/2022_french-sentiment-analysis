{
 "cells": [
  {
   "cell_type": "code",
   "execution_count": 1,
   "id": "5a5733ca",
   "metadata": {},
   "outputs": [],
   "source": [
    "import nltk"
   ]
  },
  {
   "cell_type": "code",
   "execution_count": 2,
   "id": "d75288b0",
   "metadata": {},
   "outputs": [
    {
     "name": "stdout",
     "output_type": "stream",
     "text": [
      "Requirement already satisfied: vaderSentiment-fr in /opt/anaconda3/lib/python3.9/site-packages (1.3.4)\n",
      "Requirement already satisfied: unidecode in /opt/anaconda3/lib/python3.9/site-packages (from vaderSentiment-fr) (1.2.0)\n",
      "Requirement already satisfied: fuzzywuzzy in /opt/anaconda3/lib/python3.9/site-packages (from vaderSentiment-fr) (0.18.0)\n",
      "Note: you may need to restart the kernel to use updated packages.\n"
     ]
    }
   ],
   "source": [
    "pip install vaderSentiment-fr"
   ]
  },
  {
   "cell_type": "code",
   "execution_count": 3,
   "id": "0c28c507",
   "metadata": {},
   "outputs": [],
   "source": [
    "from vaderSentiment_fr.vaderSentiment import SentimentIntensityAnalyzer"
   ]
  },
  {
   "cell_type": "code",
   "execution_count": 4,
   "id": "2ebc6e4e",
   "metadata": {},
   "outputs": [
    {
     "name": "stdout",
     "output_type": "stream",
     "text": [
      "Requirement already satisfied: python-Levenshtein in /opt/anaconda3/lib/python3.9/site-packages (0.12.2)\n",
      "Requirement already satisfied: setuptools in /opt/anaconda3/lib/python3.9/site-packages (from python-Levenshtein) (58.0.4)\n",
      "Note: you may need to restart the kernel to use updated packages.\n"
     ]
    }
   ],
   "source": [
    "pip install python-Levenshtein"
   ]
  },
  {
   "cell_type": "code",
   "execution_count": 5,
   "id": "b2f6d41d",
   "metadata": {},
   "outputs": [],
   "source": [
    "SIA = SentimentIntensityAnalyzer()"
   ]
  },
  {
   "cell_type": "code",
   "execution_count": 66,
   "id": "a5852286",
   "metadata": {},
   "outputs": [],
   "source": [
    "message_text_example = \"général de police et lui confie. \""
   ]
  },
  {
   "cell_type": "code",
   "execution_count": 67,
   "id": "b283edc7",
   "metadata": {},
   "outputs": [],
   "source": [
    "message_text = \"Catalina préférait la machine à écrire. \""
   ]
  },
  {
   "cell_type": "code",
   "execution_count": 68,
   "id": "61f55d0f",
   "metadata": {},
   "outputs": [],
   "source": [
    "scores_example = SIA.polarity_scores(message_text_example)\n"
   ]
  },
  {
   "cell_type": "code",
   "execution_count": 69,
   "id": "275da1db",
   "metadata": {},
   "outputs": [
    {
     "data": {
      "text/plain": [
       "{'neg': 0.0, 'neu': 0.781, 'pos': 0.219, 'compound': 0.1027}"
      ]
     },
     "execution_count": 69,
     "metadata": {},
     "output_type": "execute_result"
    }
   ],
   "source": [
    "scores_example"
   ]
  },
  {
   "cell_type": "code",
   "execution_count": 56,
   "id": "85d02eac",
   "metadata": {},
   "outputs": [],
   "source": [
    "scores = SIA.polarity_scores(message_text)"
   ]
  },
  {
   "cell_type": "code",
   "execution_count": 57,
   "id": "c79320b3",
   "metadata": {},
   "outputs": [
    {
     "data": {
      "text/plain": [
       "{'neg': 0.0, 'neu': 1.0, 'pos': 0.0, 'compound': 0.0}"
      ]
     },
     "execution_count": 57,
     "metadata": {},
     "output_type": "execute_result"
    }
   ],
   "source": [
    "scores"
   ]
  },
  {
   "cell_type": "code",
   "execution_count": null,
   "id": "5ade2841",
   "metadata": {},
   "outputs": [],
   "source": []
  }
 ],
 "metadata": {
  "kernelspec": {
   "display_name": "Python 3 (ipykernel)",
   "language": "python",
   "name": "python3"
  },
  "language_info": {
   "codemirror_mode": {
    "name": "ipython",
    "version": 3
   },
   "file_extension": ".py",
   "mimetype": "text/x-python",
   "name": "python",
   "nbconvert_exporter": "python",
   "pygments_lexer": "ipython3",
   "version": "3.9.7"
  }
 },
 "nbformat": 4,
 "nbformat_minor": 5
}
